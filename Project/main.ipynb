{
 "cells": [
  {
   "cell_type": "code",
   "execution_count": 2,
   "metadata": {},
   "outputs": [],
   "source": [
    "import numpy as np\n",
    "import pandas as pd \n",
    "import matplotlib.pyplot as plt\n",
    "import math\n",
    "import os"
   ]
  },
  {
   "cell_type": "code",
   "execution_count": 3,
   "metadata": {},
   "outputs": [],
   "source": [
    "# Number of hidden layers\n",
    "N_layers = 3\n",
    "\n",
    "# Number of neurons in each hidden layers\n",
    "N_hidden_neurons = 500\n",
    "N_input_neurons = 784\n",
    "N_output_neurons = 10\n",
    "\n",
    "# Training parameters\n",
    "BETA = 1\n",
    "epsilon = 0.5\n",
    "n_iter1 = 100\n",
    "n_iter2 = 6\n",
    "\n",
    "alpha = np.zeros(N_layers)\n",
    "a_xh1 = 0.4\n",
    "a_h1h2 = 0.1\n",
    "a_h2y = 0.01\n",
    "\n",
    "MINI_BATCH_SIZE = 20\n",
    "EPOCHS = 20"
   ]
  },
  {
   "cell_type": "code",
   "execution_count": 4,
   "metadata": {},
   "outputs": [],
   "source": [
    "# Glorot-Bengio initialization\n",
    "def glorot_bengio_init(n_in, n_out):\n",
    "    std_dev = math.sqrt(2 / (n_in + n_out))\n",
    "    return np.random.normal(0, std_dev, (n_in, n_out))\n",
    "\n",
    "W_xh1 = np.array(glorot_bengio_init(N_input_neurons, N_hidden_neurons))\n",
    "W_h1h2 = np.array(glorot_bengio_init(N_hidden_neurons, N_hidden_neurons))\n",
    "W_h2y = np.array(glorot_bengio_init(N_hidden_neurons, N_output_neurons))\n",
    "\n",
    "B_h1 = np.zeros(N_hidden_neurons)\n",
    "B_h2 = np.zeros(N_hidden_neurons)\n",
    "B_y = np.zeros(N_output_neurons)\n",
    "\n",
    "input_layer = np.zeros(N_input_neurons)\n",
    "hlayer1 = np.zeros(N_hidden_neurons)\n",
    "hlayer2 = np.zeros(N_hidden_neurons)\n",
    "output_layer = np.zeros(N_output_neurons)"
   ]
  },
  {
   "cell_type": "code",
   "execution_count": 5,
   "metadata": {},
   "outputs": [],
   "source": [
    "def hard_sigmoid(x):\n",
    "    a = np.clip(x, 0, 1)\n",
    "    return a\n",
    "\n",
    "def del_hard_sigmoid(x):\n",
    "    a = hard_sigmoid(x)\n",
    "    slope = int(x == a)\n",
    "    return slope\n",
    "\n",
    "def ds_dt(W_prev, layer_prev, W_next, layer_next, s_i, i, b_i, y_hat, is_op, beta):\n",
    "    de_ds = 0\n",
    "    dc_ds = 0\n",
    "    if(is_op):\n",
    "        de_ds += W_prev[i, :] * hard_sigmoid(layer_prev) + b_i\n",
    "        dc_ds = beta * (y_hat - s_i)\n",
    "    else:\n",
    "        de_ds += W_prev[i, :] * hard_sigmoid(layer_prev) + W_next[:, i] * hard_sigmoid(layer_next) + b_i\n",
    "\n",
    "\n",
    "    de_ds *= del_hard_sigmoid(s_i) \n",
    "    de_ds -= s_i\n",
    "\n",
    "    return de_ds + dc_ds\n"
   ]
  },
  {
   "cell_type": "code",
   "execution_count": 2,
   "metadata": {},
   "outputs": [
    {
     "ename": "ModuleNotFoundError",
     "evalue": "No module named 'tensorflow'",
     "output_type": "error",
     "traceback": [
      "\u001b[1;31m---------------------------------------------------------------------------\u001b[0m",
      "\u001b[1;31mModuleNotFoundError\u001b[0m                       Traceback (most recent call last)",
      "\u001b[1;32md:\\IIT\\3rd Year\\5th Sem\\EE746\\Project\\main.ipynb Cell 5\u001b[0m line \u001b[0;36m3\n\u001b[0;32m      <a href='vscode-notebook-cell:/d%3A/IIT/3rd%20Year/5th%20Sem/EE746/Project/main.ipynb#W4sZmlsZQ%3D%3D?line=0'>1</a>\u001b[0m \u001b[39mfrom\u001b[39;00m \u001b[39msklearn\u001b[39;00m\u001b[39m.\u001b[39;00m\u001b[39mmodel_selection\u001b[39;00m \u001b[39mimport\u001b[39;00m train_test_split\n\u001b[0;32m      <a href='vscode-notebook-cell:/d%3A/IIT/3rd%20Year/5th%20Sem/EE746/Project/main.ipynb#W4sZmlsZQ%3D%3D?line=1'>2</a>\u001b[0m \u001b[39mfrom\u001b[39;00m \u001b[39msklearn\u001b[39;00m\u001b[39m.\u001b[39;00m\u001b[39mpreprocessing\u001b[39;00m \u001b[39mimport\u001b[39;00m MinMaxScaler\n\u001b[1;32m----> <a href='vscode-notebook-cell:/d%3A/IIT/3rd%20Year/5th%20Sem/EE746/Project/main.ipynb#W4sZmlsZQ%3D%3D?line=2'>3</a>\u001b[0m \u001b[39mfrom\u001b[39;00m \u001b[39mtensorflow\u001b[39;00m\u001b[39m.\u001b[39;00m\u001b[39mkeras\u001b[39;00m\u001b[39m.\u001b[39;00m\u001b[39mdatasets\u001b[39;00m \u001b[39mimport\u001b[39;00m mnist  \n\u001b[0;32m      <a href='vscode-notebook-cell:/d%3A/IIT/3rd%20Year/5th%20Sem/EE746/Project/main.ipynb#W4sZmlsZQ%3D%3D?line=4'>5</a>\u001b[0m \u001b[39m# Load the MNIST dataset\u001b[39;00m\n\u001b[0;32m      <a href='vscode-notebook-cell:/d%3A/IIT/3rd%20Year/5th%20Sem/EE746/Project/main.ipynb#W4sZmlsZQ%3D%3D?line=5'>6</a>\u001b[0m (x_train, y_train), (x_test, y_test) \u001b[39m=\u001b[39m mnist\u001b[39m.\u001b[39mload_data()\n",
      "\u001b[1;31mModuleNotFoundError\u001b[0m: No module named 'tensorflow'"
     ]
    }
   ],
   "source": [
    "from sklearn.model_selection import train_test_split\n",
    "from sklearn.preprocessing import MinMaxScaler\n",
    "from tensorflow.keras.datasets import mnist  \n",
    "\n",
    "# Load the MNIST dataset\n",
    "(x_train, y_train), (x_test, y_test) = mnist.load_data()\n",
    "\n",
    "# Flatten the images and reshape to [0, 1]\n",
    "x_train = x_train.reshape(x_train.shape[0], -1) / 255.0\n",
    "x_test = x_test.reshape(x_test.shape[0], -1) / 255.0\n",
    "\n",
    "# Perform a test-train split\n",
    "x_train, x_val, y_train, y_val = train_test_split(x_train, y_train, test_size=0.2, random_state=42)\n"
   ]
  },
  {
   "cell_type": "code",
   "execution_count": null,
   "metadata": {},
   "outputs": [
    {
     "data": {
      "image/png": "[encoded data removed]",
      "text/plain": [
       "<Figure size 640x480 with 1 Axes>"
      ]
     },
     "metadata": {},
     "output_type": "display_data"
    }
   ],
   "source": [
    "import matplotlib.pyplot as plt\n",
    "index = 10\n",
    "img = x_train[index].reshape(28, 28)\n",
    "\n",
    "plt.imshow(img, cmap='gray')\n",
    "plt.show()\n"
   ]
  },
  {
   "cell_type": "code",
   "execution_count": null,
   "metadata": {},
   "outputs": [
    {
     "name": "stdout",
     "output_type": "stream",
     "text": [
      "(48000, 784)\n",
      "(48000,)\n",
      "(10000, 784)\n",
      "(10000,)\n",
      "48000\n"
     ]
    }
   ],
   "source": [
    "# print(np.max(x_train[100]))\n",
    "print(x_train.shape)\n",
    "print(y_train.shape)\n",
    "print(x_test.shape)\n",
    "print(y_test.shape)\n",
    "print(len(x_train))\n",
    "# print(x_train[4])"
   ]
  },
  {
   "cell_type": "code",
   "execution_count": null,
   "metadata": {},
   "outputs": [
    {
     "name": "stdout",
     "output_type": "stream",
     "text": [
      "1\n",
      "2\n",
      "3\n",
      "4\n",
      "4 4\n",
      "5\n",
      "6\n",
      "7\n",
      "8\n",
      "9\n",
      "10\n"
     ]
    }
   ],
   "source": [
    "for i in range(len(output_layer)):\n",
    "    print(i+1)\n",
    "    if (i+1) == y_train[10]:\n",
    "        print(i+1, y_train[10])\n",
    "\n"
   ]
  },
  {
   "cell_type": "code",
   "execution_count": null,
   "metadata": {},
   "outputs": [
    {
     "name": "stdout",
     "output_type": "stream",
     "text": [
      "\u001b[1;31mSignature:\u001b[0m\n",
      "\u001b[0mds_dt\u001b[0m\u001b[1;33m(\u001b[0m\u001b[1;33m\n",
      "\u001b[0m    \u001b[0mW_prev\u001b[0m\u001b[1;33m,\u001b[0m\u001b[1;33m\n",
      "\u001b[0m    \u001b[0mlayer_prev\u001b[0m\u001b[1;33m,\u001b[0m\u001b[1;33m\n",
      "\u001b[0m    \u001b[0mW_next\u001b[0m\u001b[1;33m,\u001b[0m\u001b[1;33m\n",
      "\u001b[0m    \u001b[0mlayer_next\u001b[0m\u001b[1;33m,\u001b[0m\u001b[1;33m\n",
      "\u001b[0m    \u001b[0ms_i\u001b[0m\u001b[1;33m,\u001b[0m\u001b[1;33m\n",
      "\u001b[0m    \u001b[0mi\u001b[0m\u001b[1;33m,\u001b[0m\u001b[1;33m\n",
      "\u001b[0m    \u001b[0mb_i\u001b[0m\u001b[1;33m,\u001b[0m\u001b[1;33m\n",
      "\u001b[0m    \u001b[0my_hat\u001b[0m\u001b[1;33m,\u001b[0m\u001b[1;33m\n",
      "\u001b[0m    \u001b[0mis_op\u001b[0m\u001b[1;33m,\u001b[0m\u001b[1;33m\n",
      "\u001b[0m    \u001b[0mbeta\u001b[0m\u001b[1;33m,\u001b[0m\u001b[1;33m\n",
      "\u001b[0m\u001b[1;33m)\u001b[0m\u001b[1;33m\u001b[0m\u001b[1;33m\u001b[0m\u001b[0m\n",
      "\u001b[1;31mDocstring:\u001b[0m <no docstring>\n",
      "\u001b[1;31mFile:\u001b[0m      c:\\users\\shambhavi shanker\\appdata\\local\\temp\\ipykernel_20624\\2015541835.py\n",
      "\u001b[1;31mType:\u001b[0m      function"
     ]
    }
   ],
   "source": [
    "?ds_dt"
   ]
  },
  {
   "cell_type": "code",
   "execution_count": null,
   "metadata": {},
   "outputs": [],
   "source": [
    "x_train_batches = np.array_split(x_train, len(x_train) // MINI_BATCH_SIZE)\n",
    "print(x_train_batches.shape)  "
   ]
  },
  {
   "cell_type": "code",
   "execution_count": null,
   "metadata": {},
   "outputs": [],
   "source": [
    "dw_xh1 = np.zeros(W_xh1.shape)\n",
    "dw_h1h2 = np.zeros(W_h1h2.shape)\n",
    "dw_h2y = np.zeros(W_h2y.shape)\n",
    "\n",
    "db_h1 = np.zeros(B_h1.shape)\n",
    "db_h2 = np.zeros(B_h2.shape)\n",
    "db_y = np.zeros(B_y.shape)"
   ]
  },
  {
   "cell_type": "code",
   "execution_count": null,
   "metadata": {},
   "outputs": [],
   "source": [
    "for mini_batch in x_train_batches:\n",
    "\n",
    "    dw_xh1 = np.zeros(W_xh1.shape)\n",
    "    dw_h1h2 = np.zeros(W_h1h2.shape)\n",
    "    dw_h2y = np.zeros(W_h2y.shape)\n",
    "\n",
    "    db_h1 = np.zeros(B_h1.shape)\n",
    "    db_h2 = np.zeros(B_h2.shape)\n",
    "    db_y = np.zeros(B_y.shape)\n",
    "\n",
    "    for idx in range(len(mini_batch)):\n",
    "        # One training example\n",
    "\n",
    "        # Forward Pass \n",
    "        input_layer = mini_batch[idx] # x is clamped\n",
    "\n",
    "        print(\"Number is \", y_train[idx])\n",
    "        \n",
    "        for iter in range(n_iter1):\n",
    "            for i in range(len(hlayer1)):\n",
    "                hlayer1[i] += epsilon * ds_dt(W_xh1, input_layer, W_h1h2, hlayer2, hlayer1[i], i, B_h1[i], None, False, 0)\n",
    "                hlayer1[i] = np.clip(hlayer1[i], 0, 1)\n",
    "            \n",
    "            for i in range(len(hlayer2)):\n",
    "                hlayer2[i] += epsilon * ds_dt(W_h1h2, hlayer1, W_h2y, output_layer, hlayer2[i], i, B_h2[i], None, False, 0)\n",
    "                hlayer1[i] = np.clip(hlayer1[i], 0, 1)\n",
    "\n",
    "            for i in range(len(output_layer)):\n",
    "                y_hat = 0\n",
    "                if (i+1) == y_train[idx]:\n",
    "                    y_hat = 1 \n",
    "                output_layer[i] += epsilon * ds_dt(W_h2y, hlayer2, None, None, output_layer[i], i, B_y[i], y_hat, True, 0)\n",
    "                output_layer[i] = np.clip(output_layer[i], 0, 1)\n",
    "\n",
    "        # print(\"Output layer\", output_layer)\n",
    "\n",
    "        # Collect activations\n",
    "\n",
    "        for i in range(len(hlayer2)):\n",
    "            for j in range(len(output_layer)):\n",
    "                dw_h2y[j, i] -= hard_sigmoid(output_layer[j]) * hard_sigmoid(hlayer2[i]) \n",
    "        \n",
    "        for i in range(len(hlayer1)):\n",
    "            for j in range(len(hlayer2)):\n",
    "                dw_h1h2[j, i] -= hard_sigmoid(hlayer2[j]) * hard_sigmoid(hlayer1[i])\n",
    "\n",
    "        for i in range(len(input_layer)):\n",
    "            for j in range(len(hlayer1)):\n",
    "                dw_xh1[j, i] -= hard_sigmoid(hlayer1[j]) * hard_sigmoid(input_layer[i])\n",
    "\n",
    "        for i in range(len(output_layer)):\n",
    "            db_y[i] -= hard_sigmoid(output_layer[i])\n",
    "        \n",
    "        for i in range(len(hlayer2)):\n",
    "            db_h2[i] -= hard_sigmoid(hlayer2[i])\n",
    "\n",
    "        for i in range(len(hlayer1)):\n",
    "            db_h1[i] -= hard_sigmoid(hlayer1[i])\n",
    "\n",
    "        # Backward Pass\n",
    "        for iter in range(n_iter2):\n",
    "            for i in range(len(output_layer)):\n",
    "                y_hat = 0\n",
    "                if (i+1) == y_train[idx]:\n",
    "                    y_hat = 1\n",
    "                output_layer[i] += epsilon * ds_dt(W_h2y, hlayer2, None, None, output_layer[i], i, B_y[i], y_hat, True, BETA)\n",
    "                output_layer[i] = np.clip(output_layer[i], 0, 1)\n",
    "\n",
    "            for i in range(len(hlayer2)):\n",
    "                hlayer2[i] += epsilon * ds_dt(W_h1h2, hlayer1, W_h2y, output_layer, hlayer2[i], i, B_h2[i], None, False, BETA)\n",
    "                hlayer2[i] = np.clip(hlayer2[i], 0, 1)\n",
    "\n",
    "            for i in range(len(hlayer1)):\n",
    "                hlayer1[i] += epsilon * ds_dt(W_xh1, input_layer, W_h1h2, hlayer2, hlayer1[i], i, B_h1[i], None, False, BETA)\n",
    "                hlayer1[i] = np.clip(hlayer1[i], 0, 1)\n",
    "\n",
    "        # print(\"Output layer\", output_layer)\n",
    "\n",
    "        # Collect activations\n",
    "\n",
    "        for i in range(len(hlayer2)):\n",
    "            for j in range(len(output_layer)):\n",
    "                dw_h2y[j, i] += hard_sigmoid(output_layer[j]) * hard_sigmoid(hlayer2[i]) \n",
    "        \n",
    "        for i in range(len(hlayer1)):\n",
    "            for j in range(len(hlayer2)):\n",
    "                dw_h1h2[j, i] += hard_sigmoid(hlayer2[j]) * hard_sigmoid(hlayer1[i])\n",
    "\n",
    "        for i in range(len(input_layer)):\n",
    "            for j in range(len(hlayer1)):\n",
    "                dw_xh1[j, i] += hard_sigmoid(hlayer1[j]) * hard_sigmoid(input_layer[i])\n",
    "        \n",
    "        for i in range(len(output_layer)):\n",
    "            db_y[i] += hard_sigmoid(output_layer[i])\n",
    "\n",
    "        for i in range(len(hlayer2)):\n",
    "            db_h2[i] += hard_sigmoid(hlayer2[i])\n",
    "\n",
    "        for i in range(len(hlayer1)):\n",
    "            db_h1[i] += hard_sigmoid(hlayer1[i])\n",
    "\n",
    "\n",
    "    # Update weights only after each minibatch\n",
    "    for i in range(len(hlayer2)):\n",
    "        for j in range(len(output_layer)):\n",
    "            W_h2y[j, i] += a_h2y * (dw_h2y[j, i] / MINI_BATCH_SIZE)\n",
    "    \n",
    "    for i in range(len(hlayer1)):\n",
    "        for j in range(len(hlayer2)):\n",
    "            W_h1h2[j, i] += a_h1h2 * (dw_h1h2[j, i] / MINI_BATCH_SIZE)\n",
    "\n",
    "    for i in range(len(input_layer)):\n",
    "        for j in range(len(hlayer1)):\n",
    "            W_xh1[j, i] += a_xh1 * (dw_xh1[j, i] / MINI_BATCH_SIZE)\n",
    "    \n",
    "    for i in range(len(output_layer)):\n",
    "        B_y[i] += a_h2y * (db_y[i] / MINI_BATCH_SIZE)\n",
    "\n",
    "    for i in range(len(hlayer2)):\n",
    "        B_h2[i] += a_h1h2 * (db_h2[i] / MINI_BATCH_SIZE)\n",
    "\n",
    "    for i in range(len(hlayer1)):\n",
    "        B_h1[i] += a_xh1 * (db_h1[i] / MINI_BATCH_SIZE)\n",
    "    \n",
    "    \n",
    "\n",
    "        \n",
    "\n",
    "        "
   ]
  },
  {
   "cell_type": "code",
   "execution_count": null,
   "metadata": {},
   "outputs": [],
   "source": [
    "E_mean_free = T.mean(self.__energy(self.layers))\n",
    "E_mean_weakly_clamped = T.mean(self.__energy(layers_weakly_clamped))\n",
    "biases_dot = T.grad( (E_mean_weakly_clamped-E_mean_free) / beta, self.biases,  consider_constant=layers_weakly_clamped)\n",
    "biases_new  = [b - alpha * dot for b,alpha,dot in zip(self.biases[1:],alphas,biases_dot[1:])]"
   ]
  }
 ],
 "metadata": {
  "kernelspec": {
   "display_name": "Python 3",
   "language": "python",
   "name": "python3"
  },
  "language_info": {
   "codemirror_mode": {
    "name": "ipython",
    "version": 3
   },
   "file_extension": ".py",
   "mimetype": "text/x-python",
   "name": "python",
   "nbconvert_exporter": "python",
   "pygments_lexer": "ipython3",
   "version": "3.11.1"
  }
 },
 "nbformat": 4,
 "nbformat_minor": 2
}
