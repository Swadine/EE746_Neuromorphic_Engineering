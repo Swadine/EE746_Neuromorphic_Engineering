{
 "cells": [
  {
   "cell_type": "code",
   "execution_count": 10,
   "metadata": {},
   "outputs": [],
   "source": [
    "import numpy as np\n",
    "import pandas as pd \n",
    "import matplotlib.pyplot as plt\n",
    "import math\n",
    "import os"
   ]
  },
  {
   "cell_type": "code",
   "execution_count": null,
   "metadata": {},
   "outputs": [],
   "source": []
  },
  {
   "cell_type": "code",
   "execution_count": null,
   "metadata": {},
   "outputs": [],
   "source": []
  },
  {
   "cell_type": "code",
   "execution_count": null,
   "metadata": {},
   "outputs": [],
   "source": []
  },
  {
   "cell_type": "code",
   "execution_count": null,
   "metadata": {},
   "outputs": [],
   "source": []
  },
  {
   "cell_type": "code",
   "execution_count": null,
   "metadata": {},
   "outputs": [],
   "source": []
  },
  {
   "cell_type": "code",
   "execution_count": null,
   "metadata": {},
   "outputs": [],
   "source": []
  },
  {
   "cell_type": "code",
   "execution_count": null,
   "metadata": {},
   "outputs": [],
   "source": []
  },
  {
   "cell_type": "code",
   "execution_count": 16,
   "metadata": {},
   "outputs": [],
   "source": [
    "# Number of hidden layers\n",
    "N_layers = 3\n",
    "\n",
    "# Number of neurons in each hidden layers\n",
    "N_hidden_neurons = 500\n",
    "N_input_neurons = 784\n",
    "N_output_neurons = 10\n",
    "\n",
    "# Training parameters\n",
    "beta = 1\n",
    "epsilon = 0.5\n",
    "n_iter1 = 100\n",
    "n_iter2 = 6\n",
    "\n",
    "alpha = np.zeros(N_layers)\n",
    "a[0] = 0.4\n",
    "a[1] = 0.1\n",
    "a[2] = 0.01"
   ]
  },
  {
   "cell_type": "code",
   "execution_count": 40,
   "metadata": {},
   "outputs": [],
   "source": [
    "# Glorot-Bengio initialization\n",
    "def glorot_bengio_init(n_in, n_out):\n",
    "    std_dev = math.sqrt(2 / (n_in + n_out))\n",
    "    return np.random.normal(0, std_dev, (n_in, n_out))\n",
    "\n",
    "W_xh1 = np.array(glorot_bengio_init(N_input_neurons, N_hidden_neurons))\n",
    "W_h1h2 = np.array(glorot_bengio_init(N_hidden_neurons, N_hidden_neurons))\n",
    "W_h2y = np.array(glorot_bengio_init(N_hidden_neurons, N_output_neurons))\n",
    "\n",
    "B_h1 = np.zeros(N_hidden_neurons)\n",
    "B_h2 = np.zeros(N_hidden_neurons)\n",
    "B_y = np.zeros(N_output_neurons)\n",
    "\n",
    "x = np.zeros(N_input_neurons)\n",
    "hlayer1 = np.zeros(N_hidden_neurons)\n",
    "hlayer2 = np.zeros(N_hidden_neurons)\n",
    "y = np.zeros(N_output_neurons)"
   ]
  },
  {
   "cell_type": "code",
   "execution_count": 63,
   "metadata": {},
   "outputs": [
    {
     "data": {
      "text/plain": [
       "(500,)"
      ]
     },
     "execution_count": 63,
     "metadata": {},
     "output_type": "execute_result"
    }
   ],
   "source": [
    "W_h1h2[4, :].shape"
   ]
  },
  {
   "cell_type": "code",
   "execution_count": 71,
   "metadata": {},
   "outputs": [],
   "source": [
    "def hard_sigmoid(x):\n",
    "    a = np.clip(x, 0, 1)\n",
    "    return a\n",
    "\n",
    "def del_hard_sigmoid(x):\n",
    "    a = hard_sigmoid(x)\n",
    "    slope = int(x == a)\n",
    "    return slope\n",
    "\n",
    "def ds_dt(W_prev, layer_prev, W_next, layer_next, s_i, i, b_i, y_hat, is_op):\n",
    "    de_ds = 0\n",
    "    dc_ds = 0\n",
    "    if(is_op):\n",
    "        de_ds += W_prev[i, :] * hard_sigmoid(layer_prev) + b_i\n",
    "        dc_ds = beta * (y_hat - s_i)\n",
    "    else:\n",
    "        de_ds += W_prev[i, :] * hard_sigmoid(layer_prev) + W_next[:, i] * hard_sigmoid(layer_next) + b_i\n",
    "\n",
    "\n",
    "    de_ds *= del_hard_sigmoid(s_i) \n",
    "    de_ds -= s_i\n",
    "\n",
    "    return de_ds + dc_ds\n"
   ]
  },
  {
   "cell_type": "code",
   "execution_count": 70,
   "metadata": {},
   "outputs": [
    {
     "data": {
      "text/plain": [
       "0"
      ]
     },
     "execution_count": 70,
     "metadata": {},
     "output_type": "execute_result"
    }
   ],
   "source": [
    "del_hard_sigmoid(5)"
   ]
  },
  {
   "cell_type": "code",
   "execution_count": null,
   "metadata": {},
   "outputs": [],
   "source": []
  }
 ],
 "metadata": {
  "kernelspec": {
   "display_name": "Python 3",
   "language": "python",
   "name": "python3"
  },
  "language_info": {
   "codemirror_mode": {
    "name": "ipython",
    "version": 3
   },
   "file_extension": ".py",
   "mimetype": "text/x-python",
   "name": "python",
   "nbconvert_exporter": "python",
   "pygments_lexer": "ipython3",
   "version": "3.10.6"
  }
 },
 "nbformat": 4,
 "nbformat_minor": 2
}
